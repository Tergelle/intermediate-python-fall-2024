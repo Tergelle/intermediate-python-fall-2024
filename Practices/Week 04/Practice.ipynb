{
 "cells": [
  {
   "cell_type": "markdown",
   "id": "e219eb82-9d55-4739-a0ca-45288d355d2f",
   "metadata": {},
   "source": [
    "### Step 1: Create a package named `dataframe_cleaner`"
   ]
  },
  {
   "cell_type": "markdown",
   "id": "c6059aba-5d48-4513-90b2-b9ddfdb9d518",
   "metadata": {},
   "source": [
    "### Step 2: Read the sample csv file\n",
    "* You need to read the `sample_employees.csv` file as a DataFrame and test your functions"
   ]
  },
  {
   "cell_type": "markdown",
   "id": "cca2a6d7-2a48-4c82-816b-d3478d59370d",
   "metadata": {},
   "source": [
    "### Step 3: Create separate functions in `__init__.py`\n",
    "1. import pandas\n",
    "2. `drop_empty` takes pandas dataframe as an input and drops any row with empty value. Use pandas' `dropna`.\n",
    "    * Use sample `DataFrame` to test\n",
    "3. `fill_empty` takes pandas dataframe and column name as inputs and fills the given column's empty values using mean. Use pandas' `fillna`.\n",
    "    * Use sample `DataFrame` to test\n",
    "4. `drop_column` takes pandas dataframe and column name as inputs and drops the given column and returns the rest of the dataframe. Use pandas' `drop`.\n",
    "    * Use sample `DataFrame` to test\n",
    "5. `fix_index` takes pandas dataframe as an input and resets its index and returns it. Use pandas' `reset_index` and drop the old index column.\n",
    "    * Use sample `DataFrame` to test\n",
    "6. `fix_dates` takes pandas dataframe and column name as input. Changes given column's data type into datetime. Use pandas' `to_datetime` function.\n",
    "    * Use sample `DataFrame` to test"
   ]
  },
  {
   "cell_type": "code",
   "execution_count": 39,
   "id": "b97392ec-3e15-45d7-8205-58ae57b60e45",
   "metadata": {
    "tags": []
   },
   "outputs": [],
   "source": [
    "import dataframe_cleaner\n",
    "import pandas as pd"
   ]
  },
  {
   "cell_type": "code",
   "execution_count": 40,
   "id": "600b6188-4737-4184-af58-cfcc50cc906e",
   "metadata": {
    "tags": []
   },
   "outputs": [],
   "source": [
    "df = pd.read_csv('sample_employees.csv')"
   ]
  },
  {
   "cell_type": "code",
   "execution_count": 41,
   "id": "c51deba2-f6b0-4ee5-8fe9-dfbb97fcf3b2",
   "metadata": {
    "tags": []
   },
   "outputs": [
    {
     "data": {
      "text/html": [
       "<div>\n",
       "<style scoped>\n",
       "    .dataframe tbody tr th:only-of-type {\n",
       "        vertical-align: middle;\n",
       "    }\n",
       "\n",
       "    .dataframe tbody tr th {\n",
       "        vertical-align: top;\n",
       "    }\n",
       "\n",
       "    .dataframe thead th {\n",
       "        text-align: right;\n",
       "    }\n",
       "</style>\n",
       "<table border=\"1\" class=\"dataframe\">\n",
       "  <thead>\n",
       "    <tr style=\"text-align: right;\">\n",
       "      <th></th>\n",
       "      <th>first_name</th>\n",
       "      <th>last_name</th>\n",
       "      <th>email</th>\n",
       "      <th>gender</th>\n",
       "      <th>employed_date</th>\n",
       "      <th>department</th>\n",
       "      <th>salary</th>\n",
       "      <th>bonus</th>\n",
       "    </tr>\n",
       "  </thead>\n",
       "  <tbody>\n",
       "    <tr>\n",
       "      <th>0</th>\n",
       "      <td>Rosamond</td>\n",
       "      <td>Dourin</td>\n",
       "      <td>rdourin0@xing.com</td>\n",
       "      <td>Female</td>\n",
       "      <td>NaN</td>\n",
       "      <td>Business Development</td>\n",
       "      <td>91048.0</td>\n",
       "      <td>10.0</td>\n",
       "    </tr>\n",
       "    <tr>\n",
       "      <th>1</th>\n",
       "      <td>Mira</td>\n",
       "      <td>Giamo</td>\n",
       "      <td>mgiamo1@ameblo.jp</td>\n",
       "      <td>Female</td>\n",
       "      <td>NaN</td>\n",
       "      <td>Legal</td>\n",
       "      <td>146665.0</td>\n",
       "      <td>2.0</td>\n",
       "    </tr>\n",
       "    <tr>\n",
       "      <th>2</th>\n",
       "      <td>August</td>\n",
       "      <td>Nelmes</td>\n",
       "      <td>anelmes2@bbb.org</td>\n",
       "      <td>Male</td>\n",
       "      <td>9/7/2014</td>\n",
       "      <td>Accounting</td>\n",
       "      <td>161814.0</td>\n",
       "      <td>14.0</td>\n",
       "    </tr>\n",
       "    <tr>\n",
       "      <th>3</th>\n",
       "      <td>Carla</td>\n",
       "      <td>Franzotto</td>\n",
       "      <td>NaN</td>\n",
       "      <td>Female</td>\n",
       "      <td>6/19/2015</td>\n",
       "      <td>Human Resources</td>\n",
       "      <td>168816.0</td>\n",
       "      <td>8.0</td>\n",
       "    </tr>\n",
       "    <tr>\n",
       "      <th>4</th>\n",
       "      <td>Paxon</td>\n",
       "      <td>Partrick</td>\n",
       "      <td>ppartrick4@drupal.org</td>\n",
       "      <td>Male</td>\n",
       "      <td>4/15/2018</td>\n",
       "      <td>Accounting</td>\n",
       "      <td>136121.0</td>\n",
       "      <td>NaN</td>\n",
       "    </tr>\n",
       "  </tbody>\n",
       "</table>\n",
       "</div>"
      ],
      "text/plain": [
       "  first_name  last_name                  email  gender employed_date  \\\n",
       "0   Rosamond     Dourin      rdourin0@xing.com  Female           NaN   \n",
       "1       Mira      Giamo      mgiamo1@ameblo.jp  Female           NaN   \n",
       "2     August     Nelmes       anelmes2@bbb.org    Male      9/7/2014   \n",
       "3      Carla  Franzotto                    NaN  Female     6/19/2015   \n",
       "4      Paxon   Partrick  ppartrick4@drupal.org    Male     4/15/2018   \n",
       "\n",
       "             department    salary  bonus  \n",
       "0  Business Development   91048.0   10.0  \n",
       "1                 Legal  146665.0    2.0  \n",
       "2            Accounting  161814.0   14.0  \n",
       "3       Human Resources  168816.0    8.0  \n",
       "4            Accounting  136121.0    NaN  "
      ]
     },
     "execution_count": 41,
     "metadata": {},
     "output_type": "execute_result"
    }
   ],
   "source": [
    "df.head()"
   ]
  },
  {
   "cell_type": "code",
   "execution_count": 42,
   "id": "5f88d98b-4e2a-4aac-9682-fb2f39d0874c",
   "metadata": {
    "tags": []
   },
   "outputs": [],
   "source": [
    "def drop_empty(df):\n",
    "    return df.dropna(axis=0)\n",
    "\n",
    "def fill_empty(df,col):\n",
    "    return df.fillna(df[col].mean())\n",
    "\n",
    "def drop_column(df,col):\n",
    "    return df.drop(columns=[col])\n",
    "\n",
    "def fix_index(df):\n",
    "    return df.reset_index(drop=True)\n",
    "\n",
    "def fix_dates(df):\n",
    "    return pd.to_datetime(df[col])"
   ]
  },
  {
   "cell_type": "code",
   "execution_count": null,
   "id": "444cc1b4-8676-41a8-b9f0-79808f077b2f",
   "metadata": {},
   "outputs": [],
   "source": []
  }
 ],
 "metadata": {
  "kernelspec": {
   "display_name": "Python 3 (ipykernel)",
   "language": "python",
   "name": "python3"
  },
  "language_info": {
   "codemirror_mode": {
    "name": "ipython",
    "version": 3
   },
   "file_extension": ".py",
   "mimetype": "text/x-python",
   "name": "python",
   "nbconvert_exporter": "python",
   "pygments_lexer": "ipython3",
   "version": "3.11.4"
  }
 },
 "nbformat": 4,
 "nbformat_minor": 5
}
