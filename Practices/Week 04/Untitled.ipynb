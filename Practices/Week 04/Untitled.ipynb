{
 "cells": [
  {
   "cell_type": "code",
   "execution_count": 20,
   "id": "4496a3e1-fe80-4a92-bd18-c29781151296",
   "metadata": {
    "tags": []
   },
   "outputs": [],
   "source": [
    "import dataframe_cleaner as dc\n",
    "import pandas as pd"
   ]
  },
  {
   "cell_type": "code",
   "execution_count": 21,
   "id": "c0353429-54a7-42fd-bf9b-063e86bb7d7a",
   "metadata": {
    "tags": []
   },
   "outputs": [],
   "source": [
    "df = pd.read_csv('sample_employees.csv')"
   ]
  },
  {
   "cell_type": "code",
   "execution_count": 22,
   "id": "31982286-7083-4ea8-ae86-6ef9e3ac0979",
   "metadata": {
    "tags": []
   },
   "outputs": [],
   "source": [
    "df =dc.drop_empty(df)"
   ]
  },
  {
   "cell_type": "code",
   "execution_count": 23,
   "id": "c2009516-9eda-4798-b27f-b6cdee6fb1ea",
   "metadata": {
    "tags": []
   },
   "outputs": [],
   "source": [
    "df=dc.fill_empty(df, 'bonus')"
   ]
  },
  {
   "cell_type": "code",
   "execution_count": 24,
   "id": "11c43fcf-30f7-466a-8e3e-5a0bd7936e0b",
   "metadata": {
    "tags": []
   },
   "outputs": [],
   "source": [
    "df = dc.fix_index(df)"
   ]
  },
  {
   "cell_type": "code",
   "execution_count": 27,
   "id": "7d0f75a6-87cc-4d10-9446-e97967975720",
   "metadata": {
    "tags": []
   },
   "outputs": [
    {
     "data": {
      "text/html": [
       "<div>\n",
       "<style scoped>\n",
       "    .dataframe tbody tr th:only-of-type {\n",
       "        vertical-align: middle;\n",
       "    }\n",
       "\n",
       "    .dataframe tbody tr th {\n",
       "        vertical-align: top;\n",
       "    }\n",
       "\n",
       "    .dataframe thead th {\n",
       "        text-align: right;\n",
       "    }\n",
       "</style>\n",
       "<table border=\"1\" class=\"dataframe\">\n",
       "  <thead>\n",
       "    <tr style=\"text-align: right;\">\n",
       "      <th></th>\n",
       "      <th>first_name</th>\n",
       "      <th>last_name</th>\n",
       "      <th>email</th>\n",
       "      <th>gender</th>\n",
       "      <th>employed_date</th>\n",
       "      <th>department</th>\n",
       "      <th>salary</th>\n",
       "      <th>bonus</th>\n",
       "    </tr>\n",
       "  </thead>\n",
       "  <tbody>\n",
       "    <tr>\n",
       "      <th>0</th>\n",
       "      <td>August</td>\n",
       "      <td>Nelmes</td>\n",
       "      <td>anelmes2@bbb.org</td>\n",
       "      <td>Male</td>\n",
       "      <td>9/7/2014</td>\n",
       "      <td>Accounting</td>\n",
       "      <td>161814.0</td>\n",
       "      <td>14.0</td>\n",
       "    </tr>\n",
       "    <tr>\n",
       "      <th>1</th>\n",
       "      <td>Whittaker</td>\n",
       "      <td>Cluet</td>\n",
       "      <td>wcluet6@angelfire.com</td>\n",
       "      <td>Male</td>\n",
       "      <td>4/13/2018</td>\n",
       "      <td>Services</td>\n",
       "      <td>114440.0</td>\n",
       "      <td>11.0</td>\n",
       "    </tr>\n",
       "    <tr>\n",
       "      <th>2</th>\n",
       "      <td>Timothee</td>\n",
       "      <td>McVane</td>\n",
       "      <td>tmcvane8@opensource.org</td>\n",
       "      <td>Male</td>\n",
       "      <td>9/5/2013</td>\n",
       "      <td>Support</td>\n",
       "      <td>117430.0</td>\n",
       "      <td>8.0</td>\n",
       "    </tr>\n",
       "    <tr>\n",
       "      <th>3</th>\n",
       "      <td>Shell</td>\n",
       "      <td>Zecchinelli</td>\n",
       "      <td>szecchinellib@blogtalkradio.com</td>\n",
       "      <td>Male</td>\n",
       "      <td>2/27/2016</td>\n",
       "      <td>Product Management</td>\n",
       "      <td>154034.0</td>\n",
       "      <td>13.0</td>\n",
       "    </tr>\n",
       "    <tr>\n",
       "      <th>4</th>\n",
       "      <td>Dill</td>\n",
       "      <td>Iglesia</td>\n",
       "      <td>diglesiac@g.co</td>\n",
       "      <td>Male</td>\n",
       "      <td>2/19/2018</td>\n",
       "      <td>Support</td>\n",
       "      <td>64334.0</td>\n",
       "      <td>4.0</td>\n",
       "    </tr>\n",
       "    <tr>\n",
       "      <th>...</th>\n",
       "      <td>...</td>\n",
       "      <td>...</td>\n",
       "      <td>...</td>\n",
       "      <td>...</td>\n",
       "      <td>...</td>\n",
       "      <td>...</td>\n",
       "      <td>...</td>\n",
       "      <td>...</td>\n",
       "    </tr>\n",
       "    <tr>\n",
       "      <th>459</th>\n",
       "      <td>Theobald</td>\n",
       "      <td>Hatley</td>\n",
       "      <td>thatleyri@state.tx.us</td>\n",
       "      <td>Male</td>\n",
       "      <td>5/9/2016</td>\n",
       "      <td>Human Resources</td>\n",
       "      <td>175423.0</td>\n",
       "      <td>12.0</td>\n",
       "    </tr>\n",
       "    <tr>\n",
       "      <th>460</th>\n",
       "      <td>Franky</td>\n",
       "      <td>McDell</td>\n",
       "      <td>fmcdellrk@pinterest.com</td>\n",
       "      <td>Female</td>\n",
       "      <td>4/24/2017</td>\n",
       "      <td>Business Development</td>\n",
       "      <td>85666.0</td>\n",
       "      <td>12.0</td>\n",
       "    </tr>\n",
       "    <tr>\n",
       "      <th>461</th>\n",
       "      <td>Maurine</td>\n",
       "      <td>Greeson</td>\n",
       "      <td>mgreesonrl@census.gov</td>\n",
       "      <td>Female</td>\n",
       "      <td>8/15/2018</td>\n",
       "      <td>Research and Development</td>\n",
       "      <td>95521.0</td>\n",
       "      <td>7.0</td>\n",
       "    </tr>\n",
       "    <tr>\n",
       "      <th>462</th>\n",
       "      <td>Cristy</td>\n",
       "      <td>Nortunen</td>\n",
       "      <td>cnortunenro@freewebs.com</td>\n",
       "      <td>Female</td>\n",
       "      <td>1/28/2016</td>\n",
       "      <td>Engineering</td>\n",
       "      <td>120389.0</td>\n",
       "      <td>2.0</td>\n",
       "    </tr>\n",
       "    <tr>\n",
       "      <th>463</th>\n",
       "      <td>Catriona</td>\n",
       "      <td>Rapps</td>\n",
       "      <td>crappsrr@nhs.uk</td>\n",
       "      <td>Female</td>\n",
       "      <td>3/27/2013</td>\n",
       "      <td>Marketing</td>\n",
       "      <td>93899.0</td>\n",
       "      <td>3.0</td>\n",
       "    </tr>\n",
       "  </tbody>\n",
       "</table>\n",
       "<p>464 rows × 8 columns</p>\n",
       "</div>"
      ],
      "text/plain": [
       "    first_name    last_name                            email  gender  \\\n",
       "0       August       Nelmes                 anelmes2@bbb.org    Male   \n",
       "1    Whittaker        Cluet            wcluet6@angelfire.com    Male   \n",
       "2     Timothee       McVane          tmcvane8@opensource.org    Male   \n",
       "3        Shell  Zecchinelli  szecchinellib@blogtalkradio.com    Male   \n",
       "4         Dill      Iglesia                   diglesiac@g.co    Male   \n",
       "..         ...          ...                              ...     ...   \n",
       "459   Theobald       Hatley            thatleyri@state.tx.us    Male   \n",
       "460     Franky       McDell          fmcdellrk@pinterest.com  Female   \n",
       "461    Maurine      Greeson            mgreesonrl@census.gov  Female   \n",
       "462     Cristy     Nortunen         cnortunenro@freewebs.com  Female   \n",
       "463   Catriona        Rapps                  crappsrr@nhs.uk  Female   \n",
       "\n",
       "    employed_date                department    salary  bonus  \n",
       "0        9/7/2014                Accounting  161814.0   14.0  \n",
       "1       4/13/2018                  Services  114440.0   11.0  \n",
       "2        9/5/2013                   Support  117430.0    8.0  \n",
       "3       2/27/2016        Product Management  154034.0   13.0  \n",
       "4       2/19/2018                   Support   64334.0    4.0  \n",
       "..            ...                       ...       ...    ...  \n",
       "459      5/9/2016           Human Resources  175423.0   12.0  \n",
       "460     4/24/2017      Business Development   85666.0   12.0  \n",
       "461     8/15/2018  Research and Development   95521.0    7.0  \n",
       "462     1/28/2016               Engineering  120389.0    2.0  \n",
       "463     3/27/2013                 Marketing   93899.0    3.0  \n",
       "\n",
       "[464 rows x 8 columns]"
      ]
     },
     "execution_count": 27,
     "metadata": {},
     "output_type": "execute_result"
    }
   ],
   "source": [
    "df"
   ]
  },
  {
   "cell_type": "code",
   "execution_count": 26,
   "id": "204bce4a-2646-428e-8c1d-e3016910a39b",
   "metadata": {
    "tags": []
   },
   "outputs": [
    {
     "ename": "TypeError",
     "evalue": "fix_dates() takes 1 positional argument but 2 were given",
     "output_type": "error",
     "traceback": [
      "\u001b[0;31m---------------------------------------------------------------------------\u001b[0m",
      "\u001b[0;31mTypeError\u001b[0m                                 Traceback (most recent call last)",
      "Cell \u001b[0;32mIn[26], line 1\u001b[0m\n\u001b[0;32m----> 1\u001b[0m df[\u001b[38;5;124m'\u001b[39m\u001b[38;5;124memployed_date\u001b[39m\u001b[38;5;124m'\u001b[39m] \u001b[38;5;241m=\u001b[39m dc\u001b[38;5;241m.\u001b[39mfix_dates(df, \u001b[38;5;124m'\u001b[39m\u001b[38;5;124memployed_date\u001b[39m\u001b[38;5;124m'\u001b[39m)\n",
      "\u001b[0;31mTypeError\u001b[0m: fix_dates() takes 1 positional argument but 2 were given"
     ]
    }
   ],
   "source": [
    "df['employed_date'] = dc.fix_dates(df, 'employed_date')"
   ]
  },
  {
   "cell_type": "code",
   "execution_count": null,
   "id": "fcf6a8a8-c556-4157-b9b0-49280e0d404d",
   "metadata": {},
   "outputs": [],
   "source": []
  }
 ],
 "metadata": {
  "kernelspec": {
   "display_name": "Python 3 (ipykernel)",
   "language": "python",
   "name": "python3"
  },
  "language_info": {
   "codemirror_mode": {
    "name": "ipython",
    "version": 3
   },
   "file_extension": ".py",
   "mimetype": "text/x-python",
   "name": "python",
   "nbconvert_exporter": "python",
   "pygments_lexer": "ipython3",
   "version": "3.11.4"
  }
 },
 "nbformat": 4,
 "nbformat_minor": 5
}
