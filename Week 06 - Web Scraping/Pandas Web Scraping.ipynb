{
 "cells": [
  {
   "cell_type": "markdown",
   "id": "70ca5ec0-63a8-4aea-8041-fa6cacdd6734",
   "metadata": {},
   "source": [
    "# Pandas Web Scraping"
   ]
  },
  {
   "cell_type": "code",
   "execution_count": 1,
   "id": "b7f29823-f0d6-4444-a4af-834589901065",
   "metadata": {
    "tags": []
   },
   "outputs": [],
   "source": [
    "import pandas as pd"
   ]
  },
  {
   "cell_type": "code",
   "execution_count": 6,
   "id": "20698a55-4f16-4971-96e5-a793b1318e32",
   "metadata": {
    "tags": []
   },
   "outputs": [],
   "source": [
    "dfs = pd.read_html('https://en.wikipedia.org/wiki/List_of_Billboard_Hot_100_top-ten_singles_in_2023')"
   ]
  },
  {
   "cell_type": "code",
   "execution_count": 7,
   "id": "396be375-77ba-4f50-ab26-ae9268341913",
   "metadata": {
    "tags": []
   },
   "outputs": [],
   "source": [
    "df = dfs[0]"
   ]
  },
  {
   "cell_type": "code",
   "execution_count": 8,
   "id": "73f4c801-367a-4cc8-8918-d8e039dbffb0",
   "metadata": {
    "tags": []
   },
   "outputs": [],
   "source": [
    "df.columns = ['entry_date', 'single', 'artist',\n",
    "              'peak','peak_date','weeks_top_top',\n",
    "              'ref']"
   ]
  },
  {
   "cell_type": "code",
   "execution_count": 9,
   "id": "d0aec28c-b3fb-48ef-a0eb-66d53f70ced6",
   "metadata": {
    "tags": []
   },
   "outputs": [
    {
     "data": {
      "text/html": [
       "<div>\n",
       "<style scoped>\n",
       "    .dataframe tbody tr th:only-of-type {\n",
       "        vertical-align: middle;\n",
       "    }\n",
       "\n",
       "    .dataframe tbody tr th {\n",
       "        vertical-align: top;\n",
       "    }\n",
       "\n",
       "    .dataframe thead th {\n",
       "        text-align: right;\n",
       "    }\n",
       "</style>\n",
       "<table border=\"1\" class=\"dataframe\">\n",
       "  <thead>\n",
       "    <tr style=\"text-align: right;\">\n",
       "      <th></th>\n",
       "      <th>entry_date</th>\n",
       "      <th>single</th>\n",
       "      <th>artist</th>\n",
       "      <th>peak</th>\n",
       "      <th>peak_date</th>\n",
       "      <th>weeks_top_top</th>\n",
       "      <th>ref</th>\n",
       "    </tr>\n",
       "  </thead>\n",
       "  <tbody>\n",
       "    <tr>\n",
       "      <th>0</th>\n",
       "      <td>November 5</td>\n",
       "      <td>\"Karma\".mw-parser-output .citation{word-wrap:b...</td>\n",
       "      <td>Taylor Swift featuring Ice Spice1</td>\n",
       "      <td>2</td>\n",
       "      <td>June 10</td>\n",
       "      <td>8</td>\n",
       "      <td>[2][3]</td>\n",
       "    </tr>\n",
       "    <tr>\n",
       "      <th>1</th>\n",
       "      <td>November 26</td>\n",
       "      <td>\"I'm Good (Blue)\"[A] (#10)</td>\n",
       "      <td>David Guetta and Bebe Rexha</td>\n",
       "      <td>4</td>\n",
       "      <td>January 14</td>\n",
       "      <td>10</td>\n",
       "      <td>[4][5]</td>\n",
       "    </tr>\n",
       "    <tr>\n",
       "      <th>2</th>\n",
       "      <td>December 17</td>\n",
       "      <td>\"Creepin'\"[A] ↑ (#5)</td>\n",
       "      <td>Metro Boomin, The Weeknd and 21 Savage</td>\n",
       "      <td>3</td>\n",
       "      <td>February 11</td>\n",
       "      <td>27</td>\n",
       "      <td>[6][7]</td>\n",
       "    </tr>\n",
       "    <tr>\n",
       "      <th>3</th>\n",
       "      <td>December 24</td>\n",
       "      <td>\"Kill Bill\"[A] ↑ (#3)</td>\n",
       "      <td>SZA</td>\n",
       "      <td>1</td>\n",
       "      <td>April 29</td>\n",
       "      <td>28</td>\n",
       "      <td>[8][9]</td>\n",
       "    </tr>\n",
       "    <tr>\n",
       "      <th>4</th>\n",
       "      <td>Singles from 2023</td>\n",
       "      <td>Singles from 2023</td>\n",
       "      <td>Singles from 2023</td>\n",
       "      <td>Singles from 2023</td>\n",
       "      <td>Singles from 2023</td>\n",
       "      <td>Singles from 2023</td>\n",
       "      <td>Singles from 2023</td>\n",
       "    </tr>\n",
       "  </tbody>\n",
       "</table>\n",
       "</div>"
      ],
      "text/plain": [
       "          entry_date                                             single  \\\n",
       "0         November 5  \"Karma\".mw-parser-output .citation{word-wrap:b...   \n",
       "1        November 26                         \"I'm Good (Blue)\"[A] (#10)   \n",
       "2        December 17                               \"Creepin'\"[A] ↑ (#5)   \n",
       "3        December 24                              \"Kill Bill\"[A] ↑ (#3)   \n",
       "4  Singles from 2023                                  Singles from 2023   \n",
       "\n",
       "                                   artist               peak  \\\n",
       "0       Taylor Swift featuring Ice Spice1                  2   \n",
       "1             David Guetta and Bebe Rexha                  4   \n",
       "2  Metro Boomin, The Weeknd and 21 Savage                  3   \n",
       "3                                     SZA                  1   \n",
       "4                       Singles from 2023  Singles from 2023   \n",
       "\n",
       "           peak_date      weeks_top_top                ref  \n",
       "0            June 10                  8             [2][3]  \n",
       "1         January 14                 10             [4][5]  \n",
       "2        February 11                 27             [6][7]  \n",
       "3           April 29                 28             [8][9]  \n",
       "4  Singles from 2023  Singles from 2023  Singles from 2023  "
      ]
     },
     "execution_count": 9,
     "metadata": {},
     "output_type": "execute_result"
    }
   ],
   "source": [
    "df.head()"
   ]
  },
  {
   "cell_type": "markdown",
   "id": "c9f8c868-8e80-4362-a1c6-923af8fdab93",
   "metadata": {},
   "source": [
    "## Doing the same thing with BeautifulSoup4"
   ]
  },
  {
   "cell_type": "code",
   "execution_count": 10,
   "id": "79c097ff-8352-49c0-9111-80acf8951e40",
   "metadata": {
    "tags": []
   },
   "outputs": [],
   "source": [
    "from bs4 import BeautifulSoup\n",
    "import requests"
   ]
  },
  {
   "cell_type": "code",
   "execution_count": 11,
   "id": "82972195-2197-438e-8b49-ccb31fc73a6c",
   "metadata": {
    "tags": []
   },
   "outputs": [],
   "source": [
    "response = requests.get('https://en.wikipedia.org/wiki/List_of_Billboard_Hot_100_top-ten_singles_in_2023')"
   ]
  },
  {
   "cell_type": "code",
   "execution_count": 12,
   "id": "1da3dfcb-023c-4e86-9c9c-5f4d1b8f4b60",
   "metadata": {
    "tags": []
   },
   "outputs": [
    {
     "data": {
      "text/plain": [
       "200"
      ]
     },
     "execution_count": 12,
     "metadata": {},
     "output_type": "execute_result"
    }
   ],
   "source": [
    "response.status_code"
   ]
  },
  {
   "cell_type": "code",
   "execution_count": 13,
   "id": "5bb86815-3945-4f67-9fa8-33d20ad3f95e",
   "metadata": {
    "tags": []
   },
   "outputs": [],
   "source": [
    "soup = BeautifulSoup(response.content)"
   ]
  },
  {
   "cell_type": "code",
   "execution_count": 14,
   "id": "ad8a320d-0f33-4d0c-879a-2ca311579c97",
   "metadata": {
    "tags": []
   },
   "outputs": [
    {
     "data": {
      "text/html": [
       "<div>\n",
       "<style scoped>\n",
       "    .dataframe tbody tr th:only-of-type {\n",
       "        vertical-align: middle;\n",
       "    }\n",
       "\n",
       "    .dataframe tbody tr th {\n",
       "        vertical-align: top;\n",
       "    }\n",
       "\n",
       "    .dataframe thead tr th {\n",
       "        text-align: left;\n",
       "    }\n",
       "</style>\n",
       "<table border=\"1\" class=\"dataframe\">\n",
       "  <thead>\n",
       "    <tr>\n",
       "      <th></th>\n",
       "      <th>Top ten entry date</th>\n",
       "      <th>Single</th>\n",
       "      <th>Artist(s)</th>\n",
       "      <th>Peak</th>\n",
       "      <th>Peak date</th>\n",
       "      <th>Weeks in top ten</th>\n",
       "      <th>Ref.</th>\n",
       "    </tr>\n",
       "    <tr>\n",
       "      <th></th>\n",
       "      <th>Singles from 2022</th>\n",
       "      <th>Singles from 2022</th>\n",
       "      <th>Singles from 2022</th>\n",
       "      <th>Singles from 2022</th>\n",
       "      <th>Singles from 2022</th>\n",
       "      <th>Singles from 2022</th>\n",
       "      <th>Singles from 2022</th>\n",
       "    </tr>\n",
       "  </thead>\n",
       "  <tbody>\n",
       "    <tr>\n",
       "      <th>0</th>\n",
       "      <td>November 5</td>\n",
       "      <td>\"Karma\".mw-parser-output .citation{word-wrap:b...</td>\n",
       "      <td>Taylor Swift featuring Ice Spice1</td>\n",
       "      <td>2</td>\n",
       "      <td>June 10</td>\n",
       "      <td>8</td>\n",
       "      <td>[2][3]</td>\n",
       "    </tr>\n",
       "    <tr>\n",
       "      <th>1</th>\n",
       "      <td>November 26</td>\n",
       "      <td>\"I'm Good (Blue)\"[A] (#10)</td>\n",
       "      <td>David Guetta and Bebe Rexha</td>\n",
       "      <td>4</td>\n",
       "      <td>January 14</td>\n",
       "      <td>10</td>\n",
       "      <td>[4][5]</td>\n",
       "    </tr>\n",
       "    <tr>\n",
       "      <th>2</th>\n",
       "      <td>December 17</td>\n",
       "      <td>\"Creepin'\"[A] ↑ (#5)</td>\n",
       "      <td>Metro Boomin, The Weeknd and 21 Savage</td>\n",
       "      <td>3</td>\n",
       "      <td>February 11</td>\n",
       "      <td>27</td>\n",
       "      <td>[6][7]</td>\n",
       "    </tr>\n",
       "    <tr>\n",
       "      <th>3</th>\n",
       "      <td>December 24</td>\n",
       "      <td>\"Kill Bill\"[A] ↑ (#3)</td>\n",
       "      <td>SZA</td>\n",
       "      <td>1</td>\n",
       "      <td>April 29</td>\n",
       "      <td>28</td>\n",
       "      <td>[8][9]</td>\n",
       "    </tr>\n",
       "    <tr>\n",
       "      <th>4</th>\n",
       "      <td>Singles from 2023</td>\n",
       "      <td>Singles from 2023</td>\n",
       "      <td>Singles from 2023</td>\n",
       "      <td>Singles from 2023</td>\n",
       "      <td>Singles from 2023</td>\n",
       "      <td>Singles from 2023</td>\n",
       "      <td>Singles from 2023</td>\n",
       "    </tr>\n",
       "    <tr>\n",
       "      <th>...</th>\n",
       "      <td>...</td>\n",
       "      <td>...</td>\n",
       "      <td>...</td>\n",
       "      <td>...</td>\n",
       "      <td>...</td>\n",
       "      <td>...</td>\n",
       "      <td>...</td>\n",
       "    </tr>\n",
       "    <tr>\n",
       "      <th>61</th>\n",
       "      <td>November 11</td>\n",
       "      <td>\"Style (Taylor's Version)\" ↑</td>\n",
       "      <td>Taylor Swift</td>\n",
       "      <td>9</td>\n",
       "      <td>November 11</td>\n",
       "      <td>1</td>\n",
       "      <td>[46]</td>\n",
       "    </tr>\n",
       "    <tr>\n",
       "      <th>62</th>\n",
       "      <td>November 11</td>\n",
       "      <td>\"Suburban Legends (Taylor's Version) (from the...</td>\n",
       "      <td>Taylor Swift</td>\n",
       "      <td>10</td>\n",
       "      <td>November 11</td>\n",
       "      <td>1</td>\n",
       "      <td>[46]</td>\n",
       "    </tr>\n",
       "    <tr>\n",
       "      <th>63</th>\n",
       "      <td>November 18</td>\n",
       "      <td>\"Standing Next to You\" ↑</td>\n",
       "      <td>Jungkook</td>\n",
       "      <td>5</td>\n",
       "      <td>November 18</td>\n",
       "      <td>1</td>\n",
       "      <td>[47]</td>\n",
       "    </tr>\n",
       "    <tr>\n",
       "      <th>64</th>\n",
       "      <td>November 18</td>\n",
       "      <td>\"Now and Then\" ↑</td>\n",
       "      <td>The Beatles</td>\n",
       "      <td>7</td>\n",
       "      <td>November 18</td>\n",
       "      <td>1</td>\n",
       "      <td>[47]</td>\n",
       "    </tr>\n",
       "    <tr>\n",
       "      <th>65</th>\n",
       "      <td>November 25</td>\n",
       "      <td>\"Lovin on Me\" ↑</td>\n",
       "      <td>Jack Harlow</td>\n",
       "      <td>1</td>\n",
       "      <td>December 2</td>\n",
       "      <td>23</td>\n",
       "      <td>[48][49]</td>\n",
       "    </tr>\n",
       "  </tbody>\n",
       "</table>\n",
       "<p>66 rows × 7 columns</p>\n",
       "</div>"
      ],
      "text/plain": [
       "   Top ten entry date                                             Single  \\\n",
       "    Singles from 2022                                  Singles from 2022   \n",
       "0          November 5  \"Karma\".mw-parser-output .citation{word-wrap:b...   \n",
       "1         November 26                         \"I'm Good (Blue)\"[A] (#10)   \n",
       "2         December 17                               \"Creepin'\"[A] ↑ (#5)   \n",
       "3         December 24                              \"Kill Bill\"[A] ↑ (#3)   \n",
       "4   Singles from 2023                                  Singles from 2023   \n",
       "..                ...                                                ...   \n",
       "61        November 11                       \"Style (Taylor's Version)\" ↑   \n",
       "62        November 11  \"Suburban Legends (Taylor's Version) (from the...   \n",
       "63        November 18                           \"Standing Next to You\" ↑   \n",
       "64        November 18                                   \"Now and Then\" ↑   \n",
       "65        November 25                                    \"Lovin on Me\" ↑   \n",
       "\n",
       "                                 Artist(s)               Peak  \\\n",
       "                         Singles from 2022  Singles from 2022   \n",
       "0        Taylor Swift featuring Ice Spice1                  2   \n",
       "1              David Guetta and Bebe Rexha                  4   \n",
       "2   Metro Boomin, The Weeknd and 21 Savage                  3   \n",
       "3                                      SZA                  1   \n",
       "4                        Singles from 2023  Singles from 2023   \n",
       "..                                     ...                ...   \n",
       "61                            Taylor Swift                  9   \n",
       "62                            Taylor Swift                 10   \n",
       "63                                Jungkook                  5   \n",
       "64                             The Beatles                  7   \n",
       "65                             Jack Harlow                  1   \n",
       "\n",
       "            Peak date   Weeks in top ten               Ref.  \n",
       "    Singles from 2022  Singles from 2022  Singles from 2022  \n",
       "0             June 10                  8             [2][3]  \n",
       "1          January 14                 10             [4][5]  \n",
       "2         February 11                 27             [6][7]  \n",
       "3            April 29                 28             [8][9]  \n",
       "4   Singles from 2023  Singles from 2023  Singles from 2023  \n",
       "..                ...                ...                ...  \n",
       "61        November 11                  1               [46]  \n",
       "62        November 11                  1               [46]  \n",
       "63        November 18                  1               [47]  \n",
       "64        November 18                  1               [47]  \n",
       "65         December 2                 23           [48][49]  \n",
       "\n",
       "[66 rows x 7 columns]"
      ]
     },
     "execution_count": 14,
     "metadata": {},
     "output_type": "execute_result"
    }
   ],
   "source": [
    "pd.read_html(str(soup.find('table')))[0]"
   ]
  },
  {
   "cell_type": "code",
   "execution_count": null,
   "id": "9120981f-6ac3-4b2c-8e79-7781effda628",
   "metadata": {},
   "outputs": [],
   "source": []
  }
 ],
 "metadata": {
  "kernelspec": {
   "display_name": "Python 3 (ipykernel)",
   "language": "python",
   "name": "python3"
  },
  "language_info": {
   "codemirror_mode": {
    "name": "ipython",
    "version": 3
   },
   "file_extension": ".py",
   "mimetype": "text/x-python",
   "name": "python",
   "nbconvert_exporter": "python",
   "pygments_lexer": "ipython3",
   "version": "3.11.4"
  }
 },
 "nbformat": 4,
 "nbformat_minor": 5
}
