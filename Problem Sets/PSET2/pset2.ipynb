{
 "cells": [
  {
   "cell_type": "markdown",
   "metadata": {},
   "source": [
    "# PSET2 - Software Engineering for DS"
   ]
  },
  {
   "cell_type": "markdown",
   "metadata": {},
   "source": [
    "This problem set is very open ended. You will create a local package and then demonstrate its use. This package has the following requirements:\n",
    "\n",
    "- The package should have a focus or direction (i.e. it shouldn't be a random collection of functions).\n",
    "- There should be at least three functions/methods in the package.\n",
    "- Each function should have a clear docstring.\n",
    "\n",
    "Good luck!"
   ]
  },
  {
   "cell_type": "markdown",
   "metadata": {},
   "source": [
    "### This package helps to get the current timezone, day, and time. It also lets you find out how many days are left until a certain date."
   ]
  },
  {
   "cell_type": "code",
   "execution_count": 8,
   "metadata": {
    "tags": []
   },
   "outputs": [],
   "source": [
    "#Importing the package\n",
    "from currentdatetime import current_timezone, current_date, current_time, days_until"
   ]
  },
  {
   "cell_type": "code",
   "execution_count": 9,
   "metadata": {},
   "outputs": [
    {
     "name": "stdout",
     "output_type": "stream",
     "text": [
      "Current time zone: +08\n",
      "Today's date: 2024-10-06\n",
      "Current time: 01:51:09\n",
      "Days until winter break: 75\n"
     ]
    }
   ],
   "source": [
    "# Get and print the current timezone\n",
    "print(\"Current time zone:\", current_timezone())  \n",
    "\n",
    "# Get and print the current date\n",
    "print(\"Today's date:\", current_date()) \n",
    "\n",
    "# Get and print the current time\n",
    "print(\"Current time:\", current_time())  \n",
    "\n",
    "#Print days until a specific date\n",
    "print(\"Days until winter break:\", days_until(\"2024-12-21\"))"
   ]
  },
  {
   "cell_type": "code",
   "execution_count": null,
   "metadata": {},
   "outputs": [],
   "source": []
  }
 ],
 "metadata": {
  "kernelspec": {
   "display_name": "Python 3 (ipykernel)",
   "language": "python",
   "name": "python3"
  },
  "language_info": {
   "codemirror_mode": {
    "name": "ipython",
    "version": 3
   },
   "file_extension": ".py",
   "mimetype": "text/x-python",
   "name": "python",
   "nbconvert_exporter": "python",
   "pygments_lexer": "ipython3",
   "version": "3.11.4"
  }
 },
 "nbformat": 4,
 "nbformat_minor": 4
}
